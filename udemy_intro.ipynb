{
  "nbformat": 4,
  "nbformat_minor": 0,
  "metadata": {
    "colab": {
      "name": "udemy_intro.ipynb",
      "provenance": [],
      "collapsed_sections": [],
      "mount_file_id": "15PHcYIkXerGUEZKRYDu-kembWPguKMAz",
      "authorship_tag": "ABX9TyOj1qXFP+lSDNx2QXP+8Rpy",
      "include_colab_link": true
    },
    "kernelspec": {
      "name": "python3",
      "display_name": "Python 3"
    }
  },
  "cells": [
    {
      "cell_type": "markdown",
      "metadata": {
        "id": "view-in-github",
        "colab_type": "text"
      },
      "source": [
        "<a href=\"https://colab.research.google.com/github/Magmar78/CodersPython/blob/master/udemy_intro.ipynb\" target=\"_parent\"><img src=\"https://colab.research.google.com/assets/colab-badge.svg\" alt=\"Open In Colab\"/></a>"
      ]
    },
    {
      "cell_type": "code",
      "metadata": {
        "colab": {
          "base_uri": "https://localhost:8080/"
        },
        "id": "FW9skHjjp6pW",
        "outputId": "be9652df-bf28-459f-d3b1-265d031bf3dd"
      },
      "source": [
        "print(\"Hello Colab\")"
      ],
      "execution_count": null,
      "outputs": [
        {
          "output_type": "stream",
          "text": [
            "Hello Colab\n"
          ],
          "name": "stdout"
        }
      ]
    },
    {
      "cell_type": "markdown",
      "metadata": {
        "id": "qmWroJDLqzzu"
      },
      "source": [
        ""
      ]
    },
    {
      "cell_type": "code",
      "metadata": {
        "id": "NHQ_SEvFra5p"
      },
      "source": [
        ""
      ],
      "execution_count": null,
      "outputs": []
    },
    {
      "cell_type": "markdown",
      "metadata": {
        "id": "vjK1bPweq5Hd"
      },
      "source": [
        "# Nowa sekcja"
      ]
    }
  ]
}